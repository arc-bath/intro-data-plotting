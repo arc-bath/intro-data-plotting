{
 "cells": [
  {
   "cell_type": "markdown",
   "metadata": {
    "slideshow": {
     "slide_type": "slide"
    }
   },
   "source": [
    "# Introduction to working with data and plotting\n",
    "\n",
    "This lesson introduces some techniques for working with data sets and producing plots. It covers:\n",
    "* A brief introduction to Jupyter notebooks.\n",
    "* Introduction to NumPy.\n",
    "* Introduction to Pandas.\n",
    "* Introduction to matplotlib."
   ]
  },
  {
   "cell_type": "markdown",
   "metadata": {
    "slideshow": {
     "slide_type": "slide"
    }
   },
   "source": [
    "## Prerequisites\n",
    "\n",
    "In order to complete the lesson you should be familar with the content of the course:\n",
    "* Introduction to Python"
   ]
  },
  {
   "cell_type": "markdown",
   "metadata": {
    "slideshow": {
     "slide_type": "slide"
    }
   },
   "source": [
    "## Schedule\n",
    "Approximate timings for the lesson:\n",
    "\n",
    "| Time | Episode | Description |\n",
    "|---|---|---|\n",
    "| 0:00 | [Setup](./00_setup.ipynb) | How to access jupyter notebooks from a GTA machine |\n",
    "| 0:10 | [Jupyter Notebooks](./01_jupyter.ipynb) | How to use a jupyter notebook |\n",
    "| 0:30 | [NumPy Introduction](./02_numpy_pt1.ipynb) | An introduction to NumPy |\n",
    "| 0:55 | [Tuples, dicts ...](./03_interlude.ipynb) | Interlude: List like structures in Python |\n",
    "| 1:05 | [More NumPy](./03_numpy_pt2.ipynb) | More features of NumPy |\n",
    "| 1:25 | [Plotting with NumPy](./03_plotting.ipynb) | How to plot with NumPy |\n",
    "| 1:40 | [Pandas Introduction](./04_pandas_pt1.ipynb) | An introduction to pandas |\n",
    "| 2:10 | [Reading a file with pandas](./05_pandas_pt2.ipynb) | Reading data into pandas |\n",
    "| 2:25 | [Plotting with pandas](./06_matplotlib_pt1.ipynb) | More plots using matplotlib with pandas |\n",
    "| 2:40 | [Exploring matplotlib's features](./07_matplotlib_pt2.ipynb) | A tour of some of the feature of matplotlib |\n",
    "| 3:00 | Finish | |"
   ]
  },
  {
   "cell_type": "markdown",
   "metadata": {
    "slideshow": {
     "slide_type": "subslide"
    }
   },
   "source": [
    "Terms and conditions may apply, instuctors may go too fast, wheels might fall off etc, etc..."
   ]
  }
 ],
 "metadata": {
  "celltoolbar": "Slideshow",
  "kernelspec": {
   "display_name": "Python 3",
   "language": "python",
   "name": "python3"
  },
  "language_info": {
   "codemirror_mode": {
    "name": "ipython",
    "version": 3
   },
   "file_extension": ".py",
   "mimetype": "text/x-python",
   "name": "python",
   "nbconvert_exporter": "python",
   "pygments_lexer": "ipython3",
   "version": "3.6.6"
  }
 },
 "nbformat": 4,
 "nbformat_minor": 2
}
