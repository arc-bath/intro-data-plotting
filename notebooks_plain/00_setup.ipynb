{
 "cells": [
  {
   "cell_type": "markdown",
   "metadata": {},
   "source": [
    "# Setup"
   ]
  },
  {
   "cell_type": "markdown",
   "metadata": {},
   "source": [
    "This lesson will introduce Jupyter notebooks which you can install on your own device as part of the [Anaconda](https://www.anaconda.com/download/) distribution (for Python 3.7!).  This also gives access to many scientific libraries for Python and other utilities such as the Spyder IDE.  Anaconda is also available of University PCs.  We will open it with the following:\n",
    "\n",
    "**Windows Start button** →  **Anaconda3** →  **Jupyter Notebook**\n",
    "\n",
    "You should now see a teminal and a web browser open. In the web browser you should see the contents of your `H:` drive (home folder). If this hasn't happened raise the red post-it now.\n",
    "\n",
    "If all has gone to plan, use the dropdown labelled `new` in the top right and select `folder`. This will create a new folder (called `Untitled Folder`), to rename it tick the box next to it and click rename at the top. We called our folder `data-plotting`.\n",
    "\n",
    "To change into that folder just click on its name. To create a new notebook, go again to the dropdown labelled `new` and select `Python 3`, this will create a new Python notebook and open a new tab in your browser.\n",
    "\n",
    "You are now ready to begin the lesson. Take a few moments to familiarise yourself with the icons and menus in the Jupyter notebook, and rename it by clicking on the title which is currently `Untitled`.\n",
    "\n",
    "You will need to download some data files during the lesson, but links are provided when these are required."
   ]
  }
 ],
 "metadata": {
  "kernelspec": {
   "display_name": "Python 3",
   "language": "python",
   "name": "python3"
  },
  "language_info": {
   "codemirror_mode": {
    "name": "ipython",
    "version": 3
   },
   "file_extension": ".py",
   "mimetype": "text/x-python",
   "name": "python",
   "nbconvert_exporter": "python",
   "pygments_lexer": "ipython3",
   "version": "3.6.6"
  }
 },
 "nbformat": 4,
 "nbformat_minor": 2
}
